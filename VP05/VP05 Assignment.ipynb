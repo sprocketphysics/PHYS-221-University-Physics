{
 "cells": [
  {
   "cell_type": "markdown",
   "metadata": {},
   "source": [
    "# VP05 Assignment"
   ]
  },
  {
   "cell_type": "code",
   "execution_count": null,
   "metadata": {},
   "outputs": [
    {
     "data": {
      "application/javascript": [
       "require.undef(\"nbextensions/vpython_libraries/glow.min\");"
      ],
      "text/plain": [
       "<IPython.core.display.Javascript object>"
      ]
     },
     "metadata": {},
     "output_type": "display_data"
    },
    {
     "data": {
      "application/javascript": [
       "require.undef(\"nbextensions/vpython_libraries/glowcomm\");"
      ],
      "text/plain": [
       "<IPython.core.display.Javascript object>"
      ]
     },
     "metadata": {},
     "output_type": "display_data"
    },
    {
     "data": {
      "application/javascript": [
       "require.undef(\"nbextensions/vpython_libraries/jquery-ui.custom.min\");"
      ],
      "text/plain": [
       "<IPython.core.display.Javascript object>"
      ]
     },
     "metadata": {},
     "output_type": "display_data"
    },
    {
     "data": {
      "application/javascript": [
       "require([\"nbextensions/vpython_libraries/glow.min\"], function(){console.log(\"GLOW LOADED\");})"
      ],
      "text/plain": [
       "<IPython.core.display.Javascript object>"
      ]
     },
     "metadata": {},
     "output_type": "display_data"
    },
    {
     "data": {
      "application/javascript": [
       "require([\"nbextensions/vpython_libraries/glowcomm\"], function(){console.log(\"GLOWCOMM LOADED\");})"
      ],
      "text/plain": [
       "<IPython.core.display.Javascript object>"
      ]
     },
     "metadata": {},
     "output_type": "display_data"
    },
    {
     "data": {
      "application/javascript": [
       "require([\"nbextensions/vpython_libraries/jquery-ui.custom.min\"], function(){console.log(\"JQUERY LOADED\");})"
      ],
      "text/plain": [
       "<IPython.core.display.Javascript object>"
      ]
     },
     "metadata": {},
     "output_type": "display_data"
    },
    {
     "data": {
      "text/html": [
       "<div id=\"glowscript\" class=\"glowscript\"></div>"
      ],
      "text/plain": [
       "<IPython.core.display.HTML object>"
      ]
     },
     "metadata": {},
     "output_type": "display_data"
    },
    {
     "data": {
      "application/javascript": [
       "window.__context = { glowscript_container: $(\"#glowscript\").removeAttr(\"id\")}"
      ],
      "text/plain": [
       "<IPython.core.display.Javascript object>"
      ]
     },
     "metadata": {},
     "output_type": "display_data"
    }
   ],
   "source": [
    "#This line is not needed for Glowscript\n",
    "#from vpython import * \n",
    "\n",
    "scene.width = scene.height = 800\n",
    "G = 6.7e-11\n",
    "mEarth = 6e24\n",
    "mcraft = 15e3\n",
    "deltat = 60\n",
    "\n",
    "Earth = sphere(pos=vector(0,0,0), radius=6.4e6, color=color.cyan)\n",
    "craft = sphere(pos=vector(-10*Earth.radius, 0,0), radius=1e6,\n",
    "color=color.yellow, make_trail=True)\n",
    "vcraft = vector(0,2e3,0)\n",
    "pcraft = mcraft*vcraft\n",
    "\n",
    "#define a scale factor to multiply momentum vector so that it is large enough to see\n",
    "# in position space\n",
    "r=craft.pos-Earth.pos\n",
    "scaleMomentum = 0.2*mag(r)/mag(pcraft)\n",
    "#define pArrow\n",
    "\n",
    "#define a scale factor for force vector\n",
    "scaleForce =  2.0*(G*mEarth*mcraft/mag(r)**2)\n",
    "fArrow = arrow(pos = craft.pos, color=color.red)\n",
    "\n",
    "t = 0\n",
    "scene.autoscale = False ##turn off automatic camera zoom\n",
    "while t < 10*365*24*60*60:\n",
    "    rate(1000)\n",
    "    #update rhat\n",
    "    r=craft.pos-Earth.pos\n",
    "    \n",
    "    #update force\n",
    "    \n",
    "    #update momentum\n",
    "\n",
    "    \n",
    "    #update position\n",
    "\n",
    "    \n",
    "    #update vector arrows\n",
    "    \n",
    "    #Detect collision\n",
    "    \n",
    "    t = t+deltat\n"
   ]
  },
  {
   "cell_type": "code",
   "execution_count": null,
   "metadata": {
    "collapsed": true
   },
   "outputs": [],
   "source": []
  }
 ],
 "metadata": {
  "kernelspec": {
   "display_name": "Python 3",
   "language": "python",
   "name": "python3"
  },
  "language_info": {
   "codemirror_mode": {
    "name": "ipython",
    "version": 3
   },
   "file_extension": ".py",
   "mimetype": "text/x-python",
   "name": "python",
   "nbconvert_exporter": "python",
   "pygments_lexer": "ipython3",
   "version": "3.6.3"
  }
 },
 "nbformat": 4,
 "nbformat_minor": 2
}
