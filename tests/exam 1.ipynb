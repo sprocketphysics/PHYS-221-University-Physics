{
 "cells": [
  {
   "cell_type": "code",
   "execution_count": 1,
   "metadata": {},
   "outputs": [
    {
     "data": {
      "application/javascript": [
       "require.undef(\"nbextensions/vpython_libraries/glow.min\");"
      ],
      "text/plain": [
       "<IPython.core.display.Javascript object>"
      ]
     },
     "metadata": {},
     "output_type": "display_data"
    },
    {
     "data": {
      "application/javascript": [
       "require.undef(\"nbextensions/vpython_libraries/glowcomm\");"
      ],
      "text/plain": [
       "<IPython.core.display.Javascript object>"
      ]
     },
     "metadata": {},
     "output_type": "display_data"
    },
    {
     "data": {
      "application/javascript": [
       "require.undef(\"nbextensions/vpython_libraries/jquery-ui.custom.min\");"
      ],
      "text/plain": [
       "<IPython.core.display.Javascript object>"
      ]
     },
     "metadata": {},
     "output_type": "display_data"
    },
    {
     "data": {
      "application/javascript": [
       "require([\"nbextensions/vpython_libraries/glow.min\"], function(){console.log(\"GLOW LOADED\");})"
      ],
      "text/plain": [
       "<IPython.core.display.Javascript object>"
      ]
     },
     "metadata": {},
     "output_type": "display_data"
    },
    {
     "data": {
      "application/javascript": [
       "require([\"nbextensions/vpython_libraries/glowcomm\"], function(){console.log(\"GLOWCOMM LOADED\");})"
      ],
      "text/plain": [
       "<IPython.core.display.Javascript object>"
      ]
     },
     "metadata": {},
     "output_type": "display_data"
    },
    {
     "data": {
      "application/javascript": [
       "require([\"nbextensions/vpython_libraries/jquery-ui.custom.min\"], function(){console.log(\"JQUERY LOADED\");})"
      ],
      "text/plain": [
       "<IPython.core.display.Javascript object>"
      ]
     },
     "metadata": {},
     "output_type": "display_data"
    },
    {
     "data": {
      "text/html": [
       "<div id=\"glowscript\" class=\"glowscript\"></div>"
      ],
      "text/plain": [
       "<IPython.core.display.HTML object>"
      ]
     },
     "metadata": {},
     "output_type": "display_data"
    },
    {
     "data": {
      "application/javascript": [
       "window.__context = { glowscript_container: $(\"#glowscript\").removeAttr(\"id\")}"
      ],
      "text/plain": [
       "<IPython.core.display.Javascript object>"
      ]
     },
     "metadata": {},
     "output_type": "display_data"
    },
    {
     "name": "stdout",
     "output_type": "stream",
     "text": [
      "<-800.000000, 1000.000000, 0.000000> 1280.6248474865697\n",
      "v= <-1.333333, 1.666667, 0.000000>\n",
      "<-0.624695, 0.780869, 0.000000>\n"
     ]
    }
   ],
   "source": [
    "from vpython import *\n",
    "\n",
    "rhome = vec(300,600,0)\n",
    "rstore = vec(1100,-400,0)\n",
    "\n",
    "disp = rhome-rstore\n",
    "print(disp, mag(disp))\n",
    "\n",
    "print(\"v=\",disp/600)\n",
    "\n",
    "print(norm(disp))"
   ]
  },
  {
   "cell_type": "code",
   "execution_count": 31,
   "metadata": {},
   "outputs": [
    {
     "name": "stdout",
     "output_type": "stream",
     "text": [
      "1.3960005850027293 2.7920011700054586\n",
      "9.549206403307016\n",
      "104.94491586719009\n"
     ]
    }
   ],
   "source": [
    "\n",
    "v=40*vec(cos(20*pi/180),sin(20*pi/180),0)\n",
    "t=v.y/9.8\n",
    "print(t, 2*t)\n",
    "print(v.y*t-0.5*9.8*t*t)\n",
    "print(v.x*2*t)"
   ]
  },
  {
   "cell_type": "code",
   "execution_count": 6,
   "metadata": {},
   "outputs": [
    {
     "name": "stdout",
     "output_type": "stream",
     "text": [
      "2.8288252923708113\n"
     ]
    }
   ],
   "source": []
  },
  {
   "cell_type": "code",
   "execution_count": 30,
   "metadata": {},
   "outputs": [
    {
     "name": "stdout",
     "output_type": "stream",
     "text": [
      "<-15.000000, 0.000000, -8.000000> <-3.000000, 0.000000, -1.600000>\n",
      "<8.000000, 0.000000, 3.600000>\n",
      "<-3.000000, 0.000000, -1.600000> <0.000000, 0.000000, 20.000000>\n",
      "<-3.000000, 0.000000, 18.400000>\n",
      "<-6.000000, 0.000000, 36.800000>\n",
      "<2.000000, 0.000000, 40.400000>\n"
     ]
    }
   ],
   "source": [
    "m=0.2\n",
    "r1=vec(18.5,0,9.2)\n",
    "r2=vec(15.5,0,7.6)\n",
    "\n",
    "v1 = (r2-r1)/0.2\n",
    "p1=v1*m\n",
    "print(v1, p1)\n",
    "r3 = r2 + v1 * .5\n",
    "print(r3)\n",
    "\n",
    "\n",
    "dt = 0.01\n",
    "dp = vec(0,0,2000)*dt\n",
    "\n",
    "print(p1,dp)\n",
    "\n",
    "p2 = p1 + dp\n",
    "print(p2)\n",
    "dt = .4\n",
    "print(p2/m*dt)\n",
    "\n",
    "r4=r3 + p2/m * dt\n",
    "\n",
    "print(r4)"
   ]
  },
  {
   "cell_type": "code",
   "execution_count": null,
   "metadata": {
    "collapsed": true
   },
   "outputs": [],
   "source": [
    "40*s"
   ]
  }
 ],
 "metadata": {
  "kernelspec": {
   "display_name": "Python 3",
   "language": "python",
   "name": "python3"
  },
  "language_info": {
   "codemirror_mode": {
    "name": "ipython",
    "version": 3
   },
   "file_extension": ".py",
   "mimetype": "text/x-python",
   "name": "python",
   "nbconvert_exporter": "python",
   "pygments_lexer": "ipython3",
   "version": "3.6.3"
  }
 },
 "nbformat": 4,
 "nbformat_minor": 2
}
