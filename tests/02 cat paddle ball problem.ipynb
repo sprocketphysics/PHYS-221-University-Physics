{
 "cells": [
  {
   "cell_type": "code",
   "execution_count": 3,
   "metadata": {},
   "outputs": [
    {
     "name": "stdout",
     "output_type": "stream",
     "text": [
      "0.29695015382816137\n"
     ]
    }
   ],
   "source": [
    "from vpython import *\n",
    "\n",
    "p = vec(-0.02,-0.01,-0.02)\n",
    "r = vec(-0.2,-0.61,0)\n",
    "\n",
    "mag(r)\n",
    "\n",
    "s= mag(r) - 0.345\n",
    "\n",
    "print(s)"
   ]
  },
  {
   "cell_type": "code",
   "execution_count": 10,
   "metadata": {
    "scrolled": true
   },
   "outputs": [
    {
     "name": "stdout",
     "output_type": "stream",
     "text": [
      "0.6419501538281613 0.34195015382816135\n",
      "<0.083264, 0.106954, 0.000000>\n",
      "<-0.011674, 0.000695, -0.020000> <-0.277824, -0.605364, -0.133333>\n"
     ]
    }
   ],
   "source": [
    "#Paddle problem P44\n",
    "\n",
    "m=0.015\n",
    "l0=0.3\n",
    "k = 0.9 \n",
    "\n",
    "p1=vec(-0.02, -0.01, -0.02)\n",
    "r1=vec(-0.2, -0.61,0)\n",
    "\n",
    "print(mag(r1), mag(r1)-l0)\n",
    "\n",
    "unitvec = -r/mag(r)\n",
    "\n",
    "fspring = k * s *unitvec\n",
    "\n",
    "fnet = fspring + vec(0,-m*9.8,0)\n",
    "print(fnet)\n",
    "\n",
    "\n",
    "dt = 0.1\n",
    "p2=p1+fnet*dt\n",
    "r2 = r1+p2/m *dt\n",
    "\n",
    "print(p2, r2)\n",
    "\n"
   ]
  },
  {
   "cell_type": "code",
   "execution_count": null,
   "metadata": {
    "collapsed": true
   },
   "outputs": [],
   "source": []
  }
 ],
 "metadata": {
  "kernelspec": {
   "display_name": "Python 3",
   "language": "python",
   "name": "python3"
  },
  "language_info": {
   "codemirror_mode": {
    "name": "ipython",
    "version": 3
   },
   "file_extension": ".py",
   "mimetype": "text/x-python",
   "name": "python",
   "nbconvert_exporter": "python",
   "pygments_lexer": "ipython3",
   "version": "3.6.3"
  }
 },
 "nbformat": 4,
 "nbformat_minor": 2
}
